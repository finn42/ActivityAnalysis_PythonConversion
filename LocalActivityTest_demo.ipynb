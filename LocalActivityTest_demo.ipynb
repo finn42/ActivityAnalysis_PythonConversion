{
 "cells": [
  {
   "cell_type": "code",
   "execution_count": 1,
   "metadata": {},
   "outputs": [],
   "source": [
    "import sys\n",
    "import os\n",
    "import time\n",
    "import datetime as dt\n",
    "import math\n",
    "import numpy as np \n",
    "import scipy as sc\n",
    "import pandas as pd\n",
    "import matplotlib.pyplot as plt\n",
    "import seaborn as sns\n",
    "import pingouin as pg\n",
    "from scipy.signal import butter,filtfilt\n",
    "from scipy.interpolate import interp1d"
   ]
  },
  {
   "cell_type": "code",
   "execution_count": 2,
   "metadata": {},
   "outputs": [],
   "source": [
    "# import activity analysis functions from aa.py file in the same folder as this jupiter notebook\n",
    "%load_ext autoreload\n",
    "%autoreload 1\n",
    "%aimport aa"
   ]
  },
  {
   "cell_type": "code",
   "execution_count": 14,
   "metadata": {},
   "outputs": [],
   "source": [
    "import scipy.io\n",
    "mat = scipy.io.loadmat('data/stim4.mat')"
   ]
  },
  {
   "cell_type": "code",
   "execution_count": 193,
   "metadata": {},
   "outputs": [],
   "source": [
    "def extract(tree):\n",
    "    for x in range(len(tree)):\n",
    "        if type(tree[x]) == list:\n",
    "            tree[x] = extract(tree[x])\n",
    "        else:\n",
    "            return tree[x]\n",
    "\n",
    "    return tree"
   ]
  },
  {
   "cell_type": "code",
   "execution_count": 29,
   "metadata": {},
   "outputs": [
    {
     "data": {
      "text/plain": [
       "11"
      ]
     },
     "execution_count": 29,
     "metadata": {},
     "output_type": "execute_result"
    }
   ],
   "source": [
    "len(mat['stim'][0][0]) #11\n"
   ]
  },
  {
   "cell_type": "code",
   "execution_count": 188,
   "metadata": {},
   "outputs": [
    {
     "name": "stdout",
     "output_type": "stream",
     "text": [
      "[[(array(['The Littlest Birds'], dtype='<U18'), array(['Blue Horse'], dtype='<U10'), array(['The Be Good Tanyas'], dtype='<U18'), array(['The Be Good Tanyas'], dtype='<U18'), array(['Folk'], dtype='<U4'), array([[4]], dtype=uint8), array([[246]], dtype=uint8))]]\n",
      "Blue Horse\n"
     ]
    },
    {
     "data": {
      "text/plain": [
       "[['piece', 'album', 'performer', 'composer', 'genre', 'stimN', 'duration'],\n",
       " ['date', 'timeD', 'timeS', 'order', 'prev', 'notes', 'sneezes'],\n",
       " ['s', 'sT', 'Hz'],\n",
       " ['raw', 'filt', 'filtN', 'rms', 'rmsN'],\n",
       " ['raw', 'filt', 'filtN', 'rms', 'rmsN'],\n",
       " ['raw', 'filt', 'filtN', 'rms', 'rmsN'],\n",
       " ['raw', 'filt', 'filtN', 'bpm', 'amp', 'beat'],\n",
       " ['raw', 'filt', 'filtN', 'tonic', 'tonicN', 'ORt'],\n",
       " ['raw', 'rawN', 'filt', 'filtN'],\n",
       " ['raw', 'rawN', 'filt', 'filtN', 'bpm', 'phase', 'Inha'],\n",
       " ['aro', 'val']]"
      ]
     },
     "execution_count": 188,
     "metadata": {},
     "output_type": "execute_result"
    }
   ],
   "source": [
    "mat['stim'][0][0][0] # stimulus details\n",
    "mat['stim'][0][0][1] # listening dates and times\n",
    "mat['stim'][0][0][2] # time\n",
    "mat['stim'][0][0][3] # corrugator sEMG\n",
    "mat['stim'][0][0][4] # zygomaticus sEMG\n",
    "mat['stim'][0][0][5] # trapezius sEMG\n",
    "mat['stim'][0][0][6] # BVP\n",
    "mat['stim'][0][0][7] # SCR\n",
    "mat['stim'][0][0][8] # temp\n",
    "mat['stim'][0][0][9] # Resp\n",
    "mat['stim'][0][0][10] # Ratings\n",
    "stim = mat['stim'][0][0]\n",
    "arrayRef =[stim[1][0][0][0][0][1].dtype,stim[1][0][0][0][0][15].dtype]\n",
    "print(stim[0])\n",
    "print(stim[0][0][0][1][0])\n",
    "\n",
    "Levels =(['track', 'sess', 'time', 'emgc', 'emgz', 'emgt', 'bvp', 'scon', 'temp', 'resp', 'beh'])\n",
    "Level = [['piece', 'album', 'performer', 'composer', 'genre', 'stimN', 'duration']]\n",
    "Level.append(['date', 'timeD', 'timeS', 'order', 'prev', 'notes', 'sneezes'])\n",
    "Level.append(['s', 'sT', 'Hz'])\n",
    "Level.append(['raw', 'filt', 'filtN', 'rms', 'rmsN'])\n",
    "Level.append(['raw', 'filt', 'filtN', 'rms', 'rmsN'])\n",
    "Level.append(['raw', 'filt', 'filtN', 'rms', 'rmsN'])\n",
    "Level.append(['raw', 'filt', 'filtN', 'bpm', 'amp', 'beat'])\n",
    "Level.append(['raw', 'filt', 'filtN', 'tonic', 'tonicN', 'ORt'])\n",
    "Level.append(['raw', 'rawN', 'filt', 'filtN'])\n",
    "Level.append(['raw', 'rawN', 'filt', 'filtN', 'bpm', 'phase', 'Inha'])\n",
    "Level.append(['aro', 'val'])\n",
    "\n",
    "LevelResponse = ['D', 'T', 'R', 'N']\n",
    "Level"
   ]
  },
  {
   "cell_type": "code",
   "execution_count": 283,
   "metadata": {},
   "outputs": [],
   "source": [
    "SRP ={}\n",
    "\n",
    "md = 0\n",
    "bit = {}\n",
    "structNames = Level[md] \n",
    "for i in range(len(structNames)):\n",
    "    det =stim[0][0][md][i].ravel()[0] #extract(stim[0][0][md][i])\n",
    "    \n",
    "    bit[structNames[i]] = det\n",
    "SRP[Levels[md]]=bit\n",
    "\n",
    "md +=1\n",
    "bit = {}\n",
    "structNames = Level[md] \n",
    "for i in range(len(structNames)):\n",
    "    det =  stim[md][0][0][i].ravel()\n",
    "    if len(det)==24:\n",
    "        days = []\n",
    "        for j in range(24):\n",
    "            if str(det[j].dtype).startswith('<U'):\n",
    "                if len(extract([det[j]]))>0:\n",
    "                    days.append(extract(det[j]))\n",
    "                else:\n",
    "                    days.append([])\n",
    "            else:\n",
    "                if str(det[j].dtype).startswith('u'):\n",
    "                    if det[j].shape == (0,0):\n",
    "                        days.append('')\n",
    "                    else:\n",
    "                        days.append(det[j])\n",
    "                    \n",
    "                else:\n",
    "                    days.append(det[j])\n",
    "        det = days\n",
    "    bit[structNames[i]] = det\n",
    "SRP[Levels[md]]=bit    \n",
    "\n",
    "md +=1\n",
    "bit = {}\n",
    "structNames = Level[md] \n",
    "for i in range(len(structNames)):\n",
    "    det =stim[md][0][0][i].ravel()\n",
    "    if len(det)==1:\n",
    "        det = det[0]\n",
    "    bit[structNames[i]] = det\n",
    "SRP[Levels[md]]=bit\n",
    "\n",
    "\n",
    "for md in range(3,11):\n",
    "    bit = {}\n",
    "    structNames = Level[md] \n",
    "    for i in range(len(structNames)):\n",
    "        det =  stim[md][0][0][i].ravel()[0]\n",
    "        if len(det)==4:\n",
    "            signals = {LevelResponse[0]:pd.DataFrame(data=det[0],index=SRP['time']['s']),\n",
    "                      LevelResponse[1]:det[1][0],\n",
    "                      LevelResponse[2]:det[2][0][0],\n",
    "                      LevelResponse[3]:det[3][0]}\n",
    "            bit[structNames[i]] = signals\n",
    "    SRP[Levels[md]]=bit  \n"
   ]
  },
  {
   "cell_type": "code",
   "execution_count": 285,
   "metadata": {},
   "outputs": [
    {
     "data": {
      "text/plain": [
       "dict_keys(['track', 'sess', 'time', 'emgc', 'emgz', 'emgt', 'bvp', 'scon', 'temp', 'resp', 'beh'])"
      ]
     },
     "execution_count": 285,
     "metadata": {},
     "output_type": "execute_result"
    }
   ],
   "source": [
    "SRP.keys()"
   ]
  },
  {
   "cell_type": "code",
   "execution_count": null,
   "metadata": {},
   "outputs": [],
   "source": []
  },
  {
   "cell_type": "code",
   "execution_count": null,
   "metadata": {},
   "outputs": [],
   "source": []
  }
 ],
 "metadata": {
  "kernelspec": {
   "display_name": "Python 3",
   "language": "python",
   "name": "python3"
  },
  "language_info": {
   "codemirror_mode": {
    "name": "ipython",
    "version": 3
   },
   "file_extension": ".py",
   "mimetype": "text/x-python",
   "name": "python",
   "nbconvert_exporter": "python",
   "pygments_lexer": "ipython3",
   "version": "3.9.0"
  }
 },
 "nbformat": 4,
 "nbformat_minor": 4
}
